{
 "cells": [
  {
   "cell_type": "code",
   "execution_count": null,
   "id": "1b5abc1b",
   "metadata": {},
   "outputs": [],
   "source": [
    "import pandas as pd\n",
    "\n",
    "# Load the dataset from the URL\n",
    "url = 'https://raw.githubusercontent.com/awesomedata/awesome-public-datasets/master/Datasets/Movies%20-%20Ratings.csv'\n",
    "data = pd.read_csv(url)\n",
    "\n",
    "# Display the first few rows of the dataset\n",
    "print(\"First few rows of the dataset:\")\n",
    "print(data.head())\n",
    "\n",
    "# Get the missing data counts for each column\n",
    "missing_data = data.isnull().sum()\n",
    "\n",
    "# Display the missing data counts\n",
    "print(\"\\nMissing data counts for each column:\")\n",
    "print(missing_data)\n"
   ]
  }
 ],
 "metadata": {
  "kernelspec": {
   "display_name": "Python 3 (ipykernel)",
   "language": "python",
   "name": "python3"
  },
  "language_info": {
   "codemirror_mode": {
    "name": "ipython",
    "version": 3
   },
   "file_extension": ".py",
   "mimetype": "text/x-python",
   "name": "python",
   "nbconvert_exporter": "python",
   "pygments_lexer": "ipython3",
   "version": "3.11.6"
  }
 },
 "nbformat": 4,
 "nbformat_minor": 5
}
